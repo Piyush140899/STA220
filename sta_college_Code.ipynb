{
 "cells": [
  {
   "cell_type": "code",
   "execution_count": null,
   "metadata": {},
   "outputs": [],
   "source": [
    "!pip install requests_cache\n",
    "!pip install selenium\n",
    "!pip install webdriver_manager"
   ]
  },
  {
   "cell_type": "code",
   "execution_count": null,
   "metadata": {},
   "outputs": [],
   "source": [
    "from selenium import webdriver\n",
    "from webdriver_manager.chrome import ChromeDriverManager\n",
    "from selenium.webdriver.common.by import By\n",
    "from selenium.common.exceptions import NoSuchElementException\n",
    "\n",
    "driver = webdriver.Chrome(ChromeDriverManager().install())"
   ]
  },
  {
   "cell_type": "code",
   "execution_count": null,
   "metadata": {},
   "outputs": [],
   "source": [
    "engineering_and_technology_2024 = []\n",
    "driver.get(\"https://www.timeshighereducation.com/world-university-rankings/2024/world-ranking\")\n",
    "select=driver.find_element(by=By.NAME,value='datatable-1_length')\n",
    "select.send_keys(\"All\")\n",
    "\n",
    "engineering_and_technology_colleges_url = driver.find_elements_by_xpath('//tbody//tr[@role=\"row\"]')\n",
    "for college in engineering_and_technology_colleges_url:\n",
    "    \n",
    "    dict={}\n",
    "    \n",
    "    try:\n",
    "        college_rank = college.find_element_by_xpath('.//td[@class=\"rank sorting_1 sorting_2\"]').get_attribute(\"textContent\")\n",
    "        print(college_rank)\n",
    "        college_link = college.find_element_by_xpath('.//td[@class=\" name namesearch\"]//a[@class=\"ranking-institution-title\"]').get_attribute(\"href\")\n",
    "        college_title = college.find_element_by_xpath('.//td[@class=\" name namesearch\"]//a[@class=\"ranking-institution-title\"]').get_attribute(\"textContent\")\n",
    "        college_location_link = college.find_element_by_xpath('.//div[@class=\"location\"]//a').get_attribute(\"href\")\n",
    "        college_location_name = college.find_element_by_xpath('.//div[@class=\"location\"]//a').get_attribute(\"textContent\")\n",
    "        college_fte_students = college.find_element_by_xpath('.//td[@class=\" stats stats_number_students\"]').get_attribute(\"textContent\")\n",
    "        college_number_of_students_per_staff = college.find_element_by_xpath('.//td[@class=\" stats stats_student_staff_ratio\"]').get_attribute(\"textContent\")\n",
    "        college_international_students = college.find_element_by_xpath('.//td[@class=\" stats stats_pc_intl_students\"]').get_attribute(\"textContent\")\n",
    "        college_female_male_ratio = college.find_element_by_xpath('.//td[@class=\" stats stats_female_male_ratio\"]').get_attribute(\"textContent\")\n",
    "        college_inter_science_research = college.find_element_by_xpath('.//td[@class=\" stats stats_proportion_of_isr\"]').get_attribute(\"textContent\")\n",
    "        \n",
    "    except NoSuchElementException:\n",
    "        print(\"At least one element not found\")\n",
    "    \n",
    "    print(college_link)\n",
    "    \n",
    "    dict['college_link'] = college_link\n",
    "    dict['college_title'] = college_title\n",
    "    dict['college_location_link'] = college_location_link\n",
    "    dict['college_location_name'] = college_location_name\n",
    "    dict['college_fte_students'] = college_fte_students\n",
    "    dict['college_number_of_students_per_staff'] = college_number_of_students_per_staff\n",
    "    dict['college_international_students'] = college_international_students\n",
    "    dict['college_female_male_ratio'] = college_female_male_ratio\n",
    "    dict['college_inter_science_research'] = college_inter_science_research\n",
    "    \n",
    "    engineering_and_technology_2024.append(dict)"
   ]
  },
  {
   "cell_type": "code",
   "execution_count": null,
   "metadata": {},
   "outputs": [],
   "source": [
    "count = 0\n",
    "for college in engineering_and_technology_2024[855:]:\n",
    "    \n",
    "    college_address = None\n",
    "    college_salary_after_10_years = None\n",
    "    college_out_of_state_tuition_and_fees = None\n",
    "    driver.get(college.get('college_link'))\n",
    "    \n",
    "    try:\n",
    "        count+=1\n",
    "        print(count)\n",
    "        college_address = driver.find_element_by_xpath('//div[@class=\"institution-info__contact-detail institution-info__contact-detail--address\"]').get_attribute(\"textContent\")\n",
    "        college_salary_after_10_years_text = driver.find_element_by_xpath('//div[@class=\"keystats salary_10_years\"]')\n",
    "        college_salary_after_10_years = college_salary_after_10_years_text.find_element_by_xpath('preceding-sibling::div').get_attribute(\"textContent\")\n",
    "        college_out_of_state_tuition_and_fees_text = driver.find_element_by_xpath('//div[@class=\"keystats fees_oos\"]')\n",
    "        college_out_of_state_tuition_and_fees = college_out_of_state_tuition_and_fees_text.find_element_by_xpath('preceding-sibling::div').get_attribute(\"textContent\")\n",
    "\n",
    "    except NoSuchElementException:\n",
    "        print(\"At least one element not found\")\n",
    "        \n",
    "    college['college_address'] = college_address\n",
    "    college['college_salary_after_10_years'] = college_salary_after_10_years\n",
    "    college['college_out_of_state_tuition_and_fees'] = college_out_of_state_tuition_and_fees"
   ]
  },
  {
   "cell_type": "code",
   "execution_count": null,
   "metadata": {},
   "outputs": [],
   "source": [
    "def remove_words(college_title,words_to_remove):\n",
    "    words = college_title.split()\n",
    "    filtered_words = [word for word in words if word.lower() not in words_to_remove]\n",
    "    college_title = ' '.join(filtered_words)\n",
    "    return college_title"
   ]
  },
  {
   "cell_type": "code",
   "execution_count": null,
   "metadata": {},
   "outputs": [],
   "source": [
    "import string\n",
    "def modify_college_title(college_title):\n",
    "    college_title = college_title.lower()\n",
    "    translator = str.maketrans(\"\", \"\", string.punctuation)\n",
    "    # Use the translation table to remove punctuation\n",
    "    college_title = college_title.translate(translator)\n",
    "    words_to_remove = ['of','the']\n",
    "    college_title = remove_words(college_title,words_to_remove)\n",
    "    college_title = college_title.replace(' ', '-')\n",
    "    return college_title\n",
    "    "
   ]
  },
  {
   "cell_type": "code",
   "execution_count": null,
   "metadata": {},
   "outputs": [],
   "source": [
    "for college in engineering_and_technology_2024:\n",
    "    college['modified_college_title'] = modify_college_title(college.get('college_title'))"
   ]
  },
  {
   "cell_type": "code",
   "execution_count": null,
   "metadata": {},
   "outputs": [],
   "source": [
    "qs_prefix_url = \"https://www.topuniversities.com/universities/\"\n",
    "count = 0\n",
    "for college in engineering_and_technology_2024:\n",
    "    \n",
    "    driver.get(qs_prefix_url + college.get('modified_college_title'))\n",
    "    college_gre = None\n",
    "    college_gpa = None\n",
    "    college_ielts = None\n",
    "    college_toefl = None\n",
    "    college_sat = None\n",
    "    \n",
    "    try:\n",
    "        count+=1\n",
    "        print(count)\n",
    "        college_gre_text = driver.find_element_by_xpath(\"//label[contains(text(), 'GRE')]\")\n",
    "        college_gre = college_gre_text.find_element_by_xpath(\"following-sibling::div\").text\n",
    "        college_gpa_text = driver.find_element_by_xpath(\"//label[contains(text(), 'GPA')]\")\n",
    "        college_gpa = college_gpa_text.find_element_by_xpath(\"following-sibling::div\").text\n",
    "        college_ielts_text = driver.find_element_by_xpath(\"//label[contains(text(), 'IELTS')]\")\n",
    "        college_ielts = college_ielts_text.find_element_by_xpath(\"following-sibling::div\").text\n",
    "        college_toefl_text = driver.find_elements_by_xpath(\"//label[contains(text(), 'TOEFL')]\")\n",
    "        college_toefl = college_toefl_text[0].find_element_by_xpath(\"following-sibling::div\").text\n",
    "        college_sat_text = driver.find_element_by_xpath(\"//label[contains(text(), 'SAT')]\")\n",
    "        college_sat = college_sat_text.find_element_by_xpath(\"following-sibling::div\").text\n",
    "        \n",
    "    except NoSuchElementException:\n",
    "        print(\"At least one element not found\")\n",
    "    \n",
    "    print(college_gre)\n",
    "    college['college_gre'] = college_gre\n",
    "    college['college_gpa'] = college_gpa\n",
    "    college['college_ielts'] = college_ielts\n",
    "    college['college_toefl'] = college_toefl\n",
    "    college['college_sat'] = college_sat"
   ]
  },
  {
   "cell_type": "code",
   "execution_count": null,
   "metadata": {},
   "outputs": [],
   "source": [
    "file_path = \"engineering_and_technology_2024_final_with_address_and_scores.json\"\n",
    "\n",
    "with open(file_path, \"w\") as json_file:\n",
    "    json.dump(engineering_and_technology_2024, json_file)\n",
    "\n",
    "print(\"Data saved to:\", file_path)"
   ]
  },
  {
   "cell_type": "code",
   "execution_count": null,
   "metadata": {},
   "outputs": [],
   "source": [
    "from selenium import webdriver\n",
    "from webdriver_manager.chrome import ChromeDriverManager\n",
    "from selenium.webdriver.common.by import By\n",
    "from selenium.common.exceptions import NoSuchElementException\n",
    "\n",
    "from selenium.webdriver.common.by import By\n",
    "from selenium.webdriver.support.ui import WebDriverWait\n",
    "from selenium.webdriver.support import expected_conditions as EC\n",
    "\n",
    "\n",
    "driver = webdriver.Chrome(ChromeDriverManager().install())"
   ]
  },
  {
   "cell_type": "code",
   "execution_count": null,
   "metadata": {},
   "outputs": [],
   "source": [
    "import time\n",
    "country_ranking_by_education_standard = {}\n",
    "\n",
    "driver.get('https://www.datapandas.org/ranking/education-rankings-by-country')\n",
    "time.sleep(10)\n",
    "country_ranking_table = driver.find_elements_by_xpath('//tbody[@class=\"metric-list-container\"]//tr')\n",
    "\n",
    "\n",
    "for country in country_ranking_table:\n",
    "    country_name = country.find_element_by_xpath('.//td[@class=\"location_list\"]').text\n",
    "    country_rank = country.find_element_by_xpath('.//td[@class=\"metric_list\"]').text\n",
    "    \n",
    "    country_ranking_by_education_standard[country_name.lower()] = country_rank"
   ]
  },
  {
   "cell_type": "code",
   "execution_count": null,
   "metadata": {},
   "outputs": [],
   "source": [
    "print(country_ranking_by_education_standard)"
   ]
  },
  {
   "cell_type": "code",
   "execution_count": null,
   "metadata": {},
   "outputs": [],
   "source": [
    "import json\n",
    "with open('engineering_and_technology_2024_final_with_address_and_scores.json', 'r') as file:\n",
    "    # Load JSON data from the file into a list of dictionaries\n",
    "    engineering_and_technology_2024 = json.load(file)"
   ]
  },
  {
   "cell_type": "code",
   "execution_count": null,
   "metadata": {},
   "outputs": [],
   "source": [
    "for college in engineering_and_technology_2024:\n",
    "    college['country_rank_by_education'] = country_ranking_by_education_standard.get(college['college_location_name'].lower())"
   ]
  },
  {
   "cell_type": "code",
   "execution_count": null,
   "metadata": {},
   "outputs": [],
   "source": [
    "file_path = \"world_qs_rankings_dict_1.json\"\n",
    "\n",
    "with open(file_path, \"w\") as json_file:\n",
    "    json.dump(engineering_and_technology_2024, json_file)\n",
    "\n",
    "print(\"Data saved to:\", file_path)"
   ]
  },
  {
   "cell_type": "code",
   "execution_count": null,
   "metadata": {},
   "outputs": [],
   "source": [
    "import time\n",
    "country_info = {}\n",
    "print(country_info)\n",
    "count=0\n",
    "for college in engineering_and_technology_2024:\n",
    "    print(count)\n",
    "    if college['college_location_name'] not in country_info:\n",
    "        \n",
    "        driver.get(college['college_location_link'])\n",
    "        \n",
    "        try:\n",
    "            dict = {}\n",
    "            \n",
    "            if count==0:\n",
    "                accept_button = driver.find_element_by_xpath('//button[@id=\"CybotCookiebotDialogBodyButtonAccept\"]')\n",
    "                accept_button.click()\n",
    "            \n",
    "            driver.implicitly_wait(3)\n",
    "            \n",
    "            country_enrollment_rate_in_higher_education_text = driver.find_element_by_xpath(\"//span[contains(text(), 'Enrollment rate in higher education')]\")\n",
    "#             country_enrollment_rate_in_higher_education_text = WebDriverWait(driver, 10).until(EC.visibility_of_element_located((By.XPATH, \"//span[contains(text(), 'Enrollment rate in higher education')]\")))\n",
    "            country_enrollment_rate_in_higher_education = country_enrollment_rate_in_higher_education_text.find_element_by_xpath(\"following-sibling::span\").text\n",
    "\n",
    "            country_population_text = driver.find_element_by_xpath(\"//span[contains(text(), 'Population')]\")\n",
    "            country_population = country_population_text.find_element_by_xpath(\"following-sibling::span\").text\n",
    "\n",
    "            unemployment_text = driver.find_element_by_xpath(\"//span[contains(text(), 'Unemployment')]\")\n",
    "            unemployment = unemployment_text.find_element_by_xpath(\"following-sibling::span\").text\n",
    "\n",
    "            annual_gdp_text = driver.find_element_by_xpath(\"//span[contains(text(), 'Annual GDP')]\")\n",
    "            annual_gdp = annual_gdp_text.find_element_by_xpath(\"following-sibling::span\").text \n",
    "            \n",
    "            college['country_enrollment_rate_in_higher_education'] = country_enrollment_rate_in_higher_education\n",
    "            college['country_population'] = country_population\n",
    "            college['country_unemployment'] = unemployment\n",
    "            college['country_annual_gdp'] = annual_gdp\n",
    "            \n",
    "            dict['country_enrollment_rate_in_higher_education'] = country_enrollment_rate_in_higher_education\n",
    "            dict['country_population'] = country_population\n",
    "            dict['country_unemployment'] = unemployment\n",
    "            dict['country_annual_gdp'] = annual_gdp\n",
    "            \n",
    "            country_info[college['college_location_name']] = dict\n",
    "        \n",
    "        except NoSuchElementException:\n",
    "            print(\"At least one element not found\")\n",
    "            \n",
    "    else:\n",
    "        college['country_enrollment_rate_in_higher_education'] = country_info[college['college_location_name']].get('country_enrollment_rate_in_higher_education')\n",
    "        college['country_population'] = country_info[college['college_location_name']].get('country_population')\n",
    "        college['country_unemployment'] = country_info[college['college_location_name']].get('country_unemployment')\n",
    "        college['country_annual_gdp'] = country_info[college['college_location_name']].get('country_annual_gdp')\n",
    "        \n",
    "    count+=1"
   ]
  },
  {
   "cell_type": "code",
   "execution_count": null,
   "metadata": {},
   "outputs": [],
   "source": [
    "file_path = \"world_qs_rankings_dict_3.json\"\n",
    "\n",
    "with open(file_path, \"w\") as json_file:\n",
    "    json.dump(engineering_and_technology_2024, json_file)\n",
    "\n",
    "print(\"Data saved to:\", file_path)"
   ]
  }
 ],
 "metadata": {
  "kernelspec": {
   "display_name": "Python 3",
   "language": "python",
   "name": "python3"
  },
  "language_info": {
   "codemirror_mode": {
    "name": "ipython",
    "version": 3
   },
   "file_extension": ".py",
   "mimetype": "text/x-python",
   "name": "python",
   "nbconvert_exporter": "python",
   "pygments_lexer": "ipython3",
   "version": "3.7.6"
  }
 },
 "nbformat": 4,
 "nbformat_minor": 4
}
